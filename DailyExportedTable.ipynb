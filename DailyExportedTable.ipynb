{
 "cells": [
  {
   "cell_type": "code",
   "execution_count": 1,
   "id": "82affb76-eafc-47db-9558-4ea3f721fe83",
   "metadata": {},
   "outputs": [],
   "source": [
    "from google.cloud import bigquery\n",
    "import pandas as pd\n",
    "import numpy as np\n",
    "from datetime import datetime \n"
   ]
  },
  {
   "cell_type": "code",
   "execution_count": 3,
   "id": "5371a04f-d079-4f52-9aab-6e7452897a1a",
   "metadata": {},
   "outputs": [],
   "source": [
    "tableList=['yip_ap_payment','yip_ar_receipt','yip_bg_account','yip_gl_account'\n",
    "            ,'yip_invoice_monthly','yip_pj_status','yip_po_listing'\n",
    "            ,'yip_wip_project','yit_ar_aging_with_cost']\n",
    "today_str=datetime.now().strftime('%d%b%y') \n",
    "writer=pd.ExcelWriter(f\"D:\\ETL_Orable_To_BQ\\{today_str}-MIS-Daily-ExportedTable.xlsx\",engine='xlsxwriter')"
   ]
  },
  {
   "cell_type": "code",
   "execution_count": 4,
   "id": "c65c1ac7-e792-455f-ba84-1ec874c260d1",
   "metadata": {},
   "outputs": [],
   "source": [
    "projectId='mismgntdata-bigquery'\n",
    "dataset_id='MIS_BI_DW'\n",
    "\n",
    "client = bigquery.Client(project=projectId)\n",
    "def load_data_bq(sql:str):\n",
    " client_bq = bigquery.Client()\n",
    " query_result=client_bq.query(sql)\n",
    " df_all=query_result.to_dataframe()\n",
    " return df_all\n",
    "\n"
   ]
  },
  {
   "cell_type": "code",
   "execution_count": 5,
   "id": "74276cfb-6531-4b47-b100-92a4a2870efd",
   "metadata": {},
   "outputs": [],
   "source": [
    " \n",
    "for table in tableList:\n",
    "    table_id = f\"{projectId}.{dataset_id}.{table}\"\n",
    "    sql=f\"\"\"\n",
    "    select ImportedAt,count(*) as {table}_no_imported\n",
    "    from  `{table_id}`  group by ImportedAt  order by ImportedAt desc\n",
    "    \"\"\"\n",
    "    df=load_data_bq(sql)\n",
    "    df.to_excel(writer, sheet_name=table,index=False)\n",
    "\n",
    "\n",
    "writer.close()"
   ]
  },
  {
   "cell_type": "code",
   "execution_count": null,
   "id": "50cebcca-99a2-40fb-94a4-5c4d4be6c432",
   "metadata": {},
   "outputs": [],
   "source": []
  }
 ],
 "metadata": {
  "kernelspec": {
   "display_name": "Python 3 (ipykernel)",
   "language": "python",
   "name": "python3"
  },
  "language_info": {
   "codemirror_mode": {
    "name": "ipython",
    "version": 3
   },
   "file_extension": ".py",
   "mimetype": "text/x-python",
   "name": "python",
   "nbconvert_exporter": "python",
   "pygments_lexer": "ipython3",
   "version": "3.9.16"
  }
 },
 "nbformat": 4,
 "nbformat_minor": 5
}
