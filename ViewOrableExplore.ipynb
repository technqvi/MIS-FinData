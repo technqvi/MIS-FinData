{
 "cells": [
  {
   "cell_type": "code",
   "execution_count": null,
   "id": "13c9c482-8542-43d6-a128-1a61034a4f33",
   "metadata": {},
   "outputs": [],
   "source": [
    "import cx_Oracle\n",
    "import pandas as pd\n",
    "import sqlalchemy\n",
    "from sqlalchemy.exc import SQLAlchemyError"
   ]
  },
  {
   "cell_type": "code",
   "execution_count": null,
   "id": "25955959-78b0-4f99-b4a4-1450271b353c",
   "metadata": {},
   "outputs": [],
   "source": [
    "# select * from yip_ap_payment where to_char(payment_date,'YYYYMMDD') = '20230420'\n",
    "# select * from yip_ar_receipt where to_char(receipt_date,'YYYYMM') = '202304'\n",
    "# select * from yip_invoice_monthly where to_char(invoice_date,'YYYYMM') = '202304'\n",
    "# select * from yip_pj_status where dept_code = '0201'\n",
    "# select * from yip_po_listing where to_char(po_date,'YYYYMM') = '202304'\n",
    "# select * from yj_po_listing where to_char(po_date,'YYYYMM') = '202304'"
   ]
  }
 ],
 "metadata": {
  "kernelspec": {
   "display_name": "Python 3 (ipykernel)",
   "language": "python",
   "name": "python3"
  },
  "language_info": {
   "codemirror_mode": {
    "name": "ipython",
    "version": 3
   },
   "file_extension": ".py",
   "mimetype": "text/x-python",
   "name": "python",
   "nbconvert_exporter": "python",
   "pygments_lexer": "ipython3",
   "version": "3.9.16"
  }
 },
 "nbformat": 4,
 "nbformat_minor": 5
}
