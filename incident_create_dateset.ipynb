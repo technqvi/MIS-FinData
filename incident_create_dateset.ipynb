{
 "cells": [
  {
   "cell_type": "code",
   "execution_count": null,
   "id": "47d4d470-bb6d-4966-a0fd-894872061b44",
   "metadata": {},
   "outputs": [],
   "source": [
    "import pandas as pd\n",
    "import numpy as np\n",
    "import math\n",
    "from datetime import datetime,timezone\n",
    "import glob\n",
    "\n",
    "import seaborn as sns\n",
    "import matplotlib.pyplot  as plt"
   ]
  },
  {
   "cell_type": "markdown",
   "id": "7787556e-318e-4eb3-8acb-8475d6e60921",
   "metadata": {},
   "source": [
    "# Init Variable"
   ]
  },
  {
   "cell_type": "code",
   "execution_count": null,
   "id": "16cbbb07-3a05-467d-924d-52dc4900a225",
   "metadata": {},
   "outputs": [],
   "source": [
    "dateCols=['open_datetime','close_datetime','imported_at']"
   ]
  },
  {
   "cell_type": "markdown",
   "id": "790a0de0-e305-48fc-b594-8cbbc64cf5e3",
   "metadata": {},
   "source": [
    "# Load data from CSV"
   ]
  },
  {
   "cell_type": "code",
   "execution_count": null,
   "id": "bc0496e9-3361-4dff-be05-8c4603e8c8d4",
   "metadata": {},
   "outputs": [],
   "source": [
    "print(\"Load data from CSV\")\n",
    "df_all=None\n",
    "\n",
    "listCSVFile = glob.glob(\"data/incident_*.csv\")\n",
    "for file in listCSVFile:\n",
    "  print(file)  \n",
    "  df=pd.read_csv(file,parse_dates=dateCols)\n",
    "  print(df.shape)\n",
    "  df_all=pd.concat([df_all,df]) \n",
    "df_all.info()"
   ]
  },
  {
   "cell_type": "markdown",
   "id": "5f31705d-67bf-42ff-a6f7-840b2d6fbf67",
   "metadata": {},
   "source": [
    "# Clean Data & Transform Data"
   ]
  },
  {
   "cell_type": "code",
   "execution_count": null,
   "id": "ddc77458-4d19-4b12-adc0-a73a766f26bd",
   "metadata": {},
   "outputs": [],
   "source": [
    "df_all=df_all.sort_values(by='id')\n",
    "df_all=df_all.drop_duplicates(subset=['id'],keep='last')\n"
   ]
  },
  {
   "cell_type": "code",
   "execution_count": null,
   "id": "e347df1a-6cf9-4996-8796-abdc8af12800",
   "metadata": {},
   "outputs": [],
   "source": [
    "print(\"Create Time to Service Cols\")\n",
    "\n",
    "df_all['open_diff_close']=df_all['close_datetime']-df_all['open_datetime']\n",
    "df_all['open_to_close_hour'] = df_all['open_diff_close'].apply(lambda x:  x.total_seconds() / (60*60) if x is not np.nan else np.nan  )\n",
    "\n",
    "# remove  hour > 8760 hours (1 year) , it very odd.\n",
    "# remove  hour <=0  it is nonesense.\n",
    "df_all=df_all.query('open_to_close_hour>0 and open_to_close_hour<=8760')"
   ]
  },
  {
   "cell_type": "code",
   "execution_count": null,
   "id": "124ff0a2-8c77-4a6a-ad2b-fc810d7a058e",
   "metadata": {},
   "outputs": [],
   "source": [
    "print(\"Create Period Level to Service\")\n",
    "def service_hour_range(x_hour):\n",
    "    if x_hour>0 and x_hour<=24:  \n",
    "      return \"day\"\n",
    "    elif x_hour>25 and x_hour<=168:   \n",
    "      return \"week\"\n",
    "    elif x_hour>168 and x_hour<=360:\n",
    "      return \"half-month\"\n",
    "    elif x_hour>360 and x_hour<=720: \n",
    "      return \"month\"\n",
    "    elif x_hour>720 and x_hour<=2160: \n",
    "      return \"quarter\"\n",
    "    else: \n",
    "      return \"year\"\n",
    "\n",
    "df_all['open_to_close_hour_range']=df_all['open_to_close_hour'].apply(service_hour_range)"
   ]
  },
  {
   "cell_type": "markdown",
   "id": "6e4a0a67-d159-490e-922c-78240610bf5b",
   "metadata": {},
   "source": [
    "# Create Label"
   ]
  },
  {
   "cell_type": "code",
   "execution_count": null,
   "id": "cd8b42f4-2654-40ec-b0ab-e96fbac48777",
   "metadata": {},
   "outputs": [],
   "source": [
    "#4-Cosmetic=0  3-Minor=1   2-Major=2  1-Critical=3\n",
    "# map_severity_to_class={4:0,3: 1, 2: 2, 1: 3}\n",
    "# print(f\"Map severity id to LabelCode: {str(map_severity_to_class)}\")\n",
    "# df_all['label_multi_severity'] =df_all['severity_id'].map(map_severity_to_class) \n",
    "\n",
    "def map_4to2_serverity(severity_id):\n",
    "    if severity_id==1 or severity_id==2:\n",
    "       return 1\n",
    "    else:\n",
    "       return 0 \n",
    "df_all['label_binary_severity'] =df_all['severity_id'].apply(map_4to2_serverity)\n",
    "\n"
   ]
  },
  {
   "cell_type": "code",
   "execution_count": null,
   "id": "fd1b42ae-4f34-4d6f-844d-6cbf1f713525",
   "metadata": {},
   "outputs": [],
   "source": [
    "df_all=df_all.drop(columns=['open_datetime','close_datetime','imported_at','open_diff_close'])\n",
    "df_all[['id','severity_id']] =df_all[['id','severity_id']].astype('int64')\n"
   ]
  },
  {
   "cell_type": "code",
   "execution_count": null,
   "id": "512f23cb-2663-4144-af3a-947553b48598",
   "metadata": {},
   "outputs": [],
   "source": [
    "df_all.info()"
   ]
  },
  {
   "cell_type": "markdown",
   "id": "18857a2a-ba0d-432f-8828-c6f17ac46d28",
   "metadata": {},
   "source": [
    "# Explore Label"
   ]
  },
  {
   "cell_type": "code",
   "execution_count": null,
   "id": "a273c60f-c9a4-4383-a015-75ddae28437d",
   "metadata": {},
   "outputs": [],
   "source": [
    "def plot_label(df_,label_):\n",
    "\n",
    "    fig , ax = plt.subplots(figsize=(15,5))\n",
    "    ax =sns.countplot(x=label_, data=df_,)\n",
    "    for p in ax.patches:\n",
    "       ax.annotate('{:.1f}'.format(p.get_height()), (p.get_x()+0.25, p.get_height()+0.01))\n",
    "    plt.title(label_)\n",
    "    plt.show()\n",
    "        \n",
    "# plot_label(df_all,'label_multi_severity')\n",
    "plot_label(df_all,'label_binary_severity')"
   ]
  },
  {
   "cell_type": "code",
   "execution_count": null,
   "id": "41bc0c6e-d778-41d1-b65e-0782a1625f34",
   "metadata": {},
   "outputs": [],
   "source": [
    "# Explore Feature\n",
    "##  product_type  as  vertical chart bar ,sort dese\n",
    "##  incident_type  as horizontal chart bar, sort desc\n",
    "##  service_type, sla as pie chart "
   ]
  },
  {
   "cell_type": "markdown",
   "id": "13996cac-e60f-40bb-b57c-573df24a32ca",
   "metadata": {},
   "source": [
    "# Save DataSet"
   ]
  },
  {
   "cell_type": "code",
   "execution_count": null,
   "id": "6e8d7408-7438-48c7-8cdf-431116e741ea",
   "metadata": {},
   "outputs": [],
   "source": [
    "df_all.to_csv('dataset.csv',index=False)"
   ]
  },
  {
   "cell_type": "code",
   "execution_count": null,
   "id": "f37e1883-4915-421b-bb35-685d69b48a4a",
   "metadata": {},
   "outputs": [],
   "source": []
  },
  {
   "cell_type": "code",
   "execution_count": null,
   "id": "e2212b86-019f-4235-8b3e-65ba8419934b",
   "metadata": {},
   "outputs": [],
   "source": []
  }
 ],
 "metadata": {
  "kernelspec": {
   "display_name": "Python 3 (ipykernel)",
   "language": "python",
   "name": "python3"
  },
  "language_info": {
   "codemirror_mode": {
    "name": "ipython",
    "version": 3
   },
   "file_extension": ".py",
   "mimetype": "text/x-python",
   "name": "python",
   "nbconvert_exporter": "python",
   "pygments_lexer": "ipython3",
   "version": "3.9.16"
  }
 },
 "nbformat": 4,
 "nbformat_minor": 5
}
