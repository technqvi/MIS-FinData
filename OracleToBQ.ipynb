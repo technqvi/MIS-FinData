{
 "cells": [
  {
   "cell_type": "code",
   "execution_count": null,
   "id": "e558af68-b58a-4398-a668-eb7bb0550a1c",
   "metadata": {},
   "outputs": [],
   "source": [
    "# https://cx-oracle.readthedocs.io/en/latest/\n",
    "# https://datatofish.com/how-to-connect-python-to-an-oracle-database-using-cx_oracle/\n",
    "\n",
    "#https://cx-oracle.readthedocs.io/en/latest/user_guide/installation.html#wininstall\n",
    "# https://datatofish.com/how-to-connect-python-to-an-oracle-database-using-cx_oracle/\n",
    "\n",
    "# https://cx-oracle.readthedocs.io/en/latest/user_guide/installation.html#wininstall\n",
    "# https://cx-oracle.readthedocs.io/en/latest/user_guide/installation.html#installing-cx-oracle-on-windows\n",
    "# https://cx-oracle.readthedocs.io/en/latest/user_guide/installation.html#quick-start-cx-oracle-installation  (code sample)\n",
    "\n",
    "# https://www.oracle.com/database/technologies/instant-client/winx64-64-downloads.html"
   ]
  },
  {
   "cell_type": "code",
   "execution_count": null,
   "id": "2c78ac49-e211-47a4-8e7d-09abb88bc294",
   "metadata": {},
   "outputs": [],
   "source": [
    "import cx_Oracle\n",
    "\n",
    "_ip='x.x.x.x'\n",
    "_hostname='x'\n",
    "_port=1234\n",
    "_servicename='x'\n",
    "_username='x'\n",
    "_password='x'\n",
    "\n",
    "# connection = cx_Oracle.connect(user=_username, password=_password,\n",
    "#                                dsn=f\"{_ip}/{_servicename}\")\n",
    "\n",
    "# cursor = connection.cursor()\n",
    "# cursor.execute(\"\"\" select * from yip_invoice_monthly where to_char(invoice_date,'YYYYMM') = '202304' \"\"\")\n",
    "# for row in cursor:\n",
    "#     print(row)"
   ]
  },
  {
   "cell_type": "code",
   "execution_count": null,
   "id": "839c3338-3d7d-402f-8026-232bc1116420",
   "metadata": {},
   "outputs": [],
   "source": [
    "# https://blogs.oracle.com/connect/post/run-sql-data-queries-pandas\n",
    "# https://hemantoracledba.blogspot.com/2021/04/python-with-oracle-using-sqlalchemy-and.html\n",
    "# https://docs.sqlalchemy.org/en/20/core/engines.html#oracle\n",
    "import pandas as pd\n",
    "import cx_Oracle\n",
    "import sqlalchemy\n",
    "from sqlalchemy.exc import SQLAlchemyError\n",
    "\n",
    "try:\n",
    "\n",
    "   engine = sqlalchemy.create_engine(f\"oracle+cx_oracle://{_username}:{_password}@{_ip}:{_port}/?service_name={_servicename}\")\n",
    "   sql = \"\"\" select * from yip_invoice_monthly where to_char(invoice_date,'YYYYMM') = '202304' \"\"\"; \n",
    "   df = pd.read_sql(sql, engine)\n",
    "except SQLAlchemyError as e:\n",
    "   print(e)"
   ]
  },
  {
   "cell_type": "code",
   "execution_count": null,
   "id": "051a14a6-b03a-4978-9af4-2e24fb631951",
   "metadata": {},
   "outputs": [],
   "source": [
    "df"
   ]
  },
  {
   "cell_type": "code",
   "execution_count": null,
   "id": "ffa02987-1825-4cdf-b631-3b941b10c3fa",
   "metadata": {},
   "outputs": [],
   "source": []
  }
 ],
 "metadata": {
  "kernelspec": {
   "display_name": "Python 3 (ipykernel)",
   "language": "python",
   "name": "python3"
  },
  "language_info": {
   "codemirror_mode": {
    "name": "ipython",
    "version": 3
   },
   "file_extension": ".py",
   "mimetype": "text/x-python",
   "name": "python",
   "nbconvert_exporter": "python",
   "pygments_lexer": "ipython3",
   "version": "3.9.16"
  }
 },
 "nbformat": 4,
 "nbformat_minor": 5
}
