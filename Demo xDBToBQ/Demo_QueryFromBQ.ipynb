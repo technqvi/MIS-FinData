{
 "cells": [
  {
   "cell_type": "code",
   "execution_count": 6,
   "id": "82affb76-eafc-47db-9558-4ea3f721fe83",
   "metadata": {},
   "outputs": [],
   "source": [
    "from google.cloud import bigquery\n",
    "import pandas as pd\n",
    "import numpy as np\n",
    "from datetime import datetime "
   ]
  },
  {
   "cell_type": "code",
   "execution_count": 7,
   "id": "74276cfb-6531-4b47-b100-92a4a2870efd",
   "metadata": {},
   "outputs": [],
   "source": [
    "projectId='xxxx'\n",
    "dataset_id='yyyy'\n",
    "table_name=\"zzz\"\n",
    "\n",
    "table_id = f\"{projectId}.{dataset_id}.{table_name}\"\n",
    "\n",
    "client = bigquery.Client(project=projectId)\n",
    "\n",
    "date_search='last_update_date'"
   ]
  },
  {
   "cell_type": "code",
   "execution_count": 8,
   "id": "12768fbd-b46d-4289-8101-aa92b2d2735e",
   "metadata": {},
   "outputs": [],
   "source": [
    "def load_data_bq(sql:str):\n",
    " client_bq = bigquery.Client()\n",
    " query_result=client_bq.query(sql)\n",
    " df_all=query_result.to_dataframe()\n",
    " return df_all"
   ]
  },
  {
   "cell_type": "code",
   "execution_count": 11,
   "id": "5e4a59f9-b13b-43e8-a334-11ec0cee77ef",
   "metadata": {},
   "outputs": [
    {
     "name": "stdout",
     "output_type": "stream",
     "text": [
      "<class 'pandas.core.frame.DataFrame'>\n",
      "RangeIndex: 2926 entries, 0 to 2925\n",
      "Data columns (total 41 columns):\n",
      " #   Column                    Non-Null Count  Dtype         \n",
      "---  ------                    --------------  -----         \n",
      " 0   customer_trx_id           2926 non-null   Int64         \n",
      " 1   org_id                    2926 non-null   Int64         \n",
      " 2   gl_date                   2926 non-null   dbdate        \n",
      " 3   invoice_date              2926 non-null   dbdate        \n",
      " 4   dept_name                 2926 non-null   object        \n",
      " 5   dept_code                 2926 non-null   object        \n",
      " 6   invoice_number            2926 non-null   object        \n",
      " 7   tax_invoice_number        2145 non-null   object        \n",
      " 8   so                        2 non-null      object        \n",
      " 9   project                   1564 non-null   object        \n",
      " 10  rev_con                   0 non-null      object        \n",
      " 11  cn_number                 49 non-null     object        \n",
      " 12  cn_comment                20 non-null     object        \n",
      " 13  invoice_type              2926 non-null   object        \n",
      " 14  invoice_type_description  2926 non-null   object        \n",
      " 15  cust_code                 2926 non-null   object        \n",
      " 16  cust_name                 2926 non-null   object        \n",
      " 17  industry_new              2276 non-null   object        \n",
      " 18  sector                    2276 non-null   object        \n",
      " 19  abbrevation               2276 non-null   object        \n",
      " 20  sale_code                 2926 non-null   Int64         \n",
      " 21  sale_name                 2926 non-null   object        \n",
      " 22  invoice_amount            2926 non-null   float64       \n",
      " 23  total_cost                2926 non-null   float64       \n",
      " 24  margin_amount             2926 non-null   float64       \n",
      " 25  margin_percent            2926 non-null   float64       \n",
      " 26  salesforce_opp            457 non-null    object        \n",
      " 27  line_description1         2902 non-null   object        \n",
      " 28  line_description2         2055 non-null   object        \n",
      " 29  line_description3         1744 non-null   object        \n",
      " 30  line_description4         1342 non-null   object        \n",
      " 31  line_description5         941 non-null    object        \n",
      " 32  line_description6         574 non-null    object        \n",
      " 33  line_description7         288 non-null    object        \n",
      " 34  line_description8         182 non-null    object        \n",
      " 35  line_description9         87 non-null     object        \n",
      " 36  creation_date             2926 non-null   datetime64[ns]\n",
      " 37  created_by                2926 non-null   Int64         \n",
      " 38  last_update_date          2926 non-null   datetime64[ns]\n",
      " 39  last_updated_by           2926 non-null   Int64         \n",
      " 40  ImportedAt                2926 non-null   datetime64[ns]\n",
      "dtypes: Int64(5), datetime64[ns](3), dbdate(2), float64(4), object(27)\n",
      "memory usage: 951.6+ KB\n"
     ]
    }
   ],
   "source": [
    "sql_all=f\"\"\"\n",
    "SELECT * FROM `{table_id}` where {date_search}>='2023-06-01'\n",
    "\"\"\"\n",
    "#order by imported_at\n",
    "df=load_data_bq(sql_all)\n",
    "df.info()\n"
   ]
  },
  {
   "cell_type": "code",
   "execution_count": null,
   "id": "50cebcca-99a2-40fb-94a4-5c4d4be6c432",
   "metadata": {},
   "outputs": [],
   "source": []
  }
 ],
 "metadata": {
  "kernelspec": {
   "display_name": "Python 3 (ipykernel)",
   "language": "python",
   "name": "python3"
  },
  "language_info": {
   "codemirror_mode": {
    "name": "ipython",
    "version": 3
   },
   "file_extension": ".py",
   "mimetype": "text/x-python",
   "name": "python",
   "nbconvert_exporter": "python",
   "pygments_lexer": "ipython3",
   "version": "3.10.12"
  }
 },
 "nbformat": 4,
 "nbformat_minor": 5
}
