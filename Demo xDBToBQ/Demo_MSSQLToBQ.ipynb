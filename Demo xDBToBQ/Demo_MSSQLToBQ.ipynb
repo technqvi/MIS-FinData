{
 "cells": [
  {
   "cell_type": "code",
   "execution_count": 19,
   "id": "8ede11eb-1df7-4cc3-a07f-43daa758ad9b",
   "metadata": {},
   "outputs": [],
   "source": [
    "import pyodbc\n",
    "import pandas as pd\n",
    "\n",
    "import sqlalchemy\n",
    "from sqlalchemy.engine import URL\n",
    "from sqlalchemy.exc import SQLAlchemyError"
   ]
  },
  {
   "cell_type": "code",
   "execution_count": 20,
   "id": "f5507ec5-d921-43e2-8ee7-c3305e505c18",
   "metadata": {},
   "outputs": [],
   "source": [
    "_hostname ='xxx\\yyyy' \n",
    "_port=1433\n",
    "_servicename = 'zzzz' \n",
    "_username = 'abc' \n",
    "_password = 'abc'  "
   ]
  },
  {
   "cell_type": "code",
   "execution_count": null,
   "id": "227ffb4a-5541-41d0-b7aa-22816289cd6c",
   "metadata": {},
   "outputs": [],
   "source": [
    "cnxn = pyodbc.connect('DRIVER={SQL Server};SERVER='+_hostname +';DATABASE='+_servicename+';Port='+str(_port)+';UID='+_username+';PWD='+_password)\n",
    "\n",
    "cursor = cnxn.cursor()\n",
    "\n",
    "#start_date_query='2023-01-01'\n",
    "start_date_query='2023-08-11 18:27:56.437'\n",
    "# select 26 rows from SQL table to insert in dataframe.\n",
    "query = f\" SELECT  * FROM bigdata.vw_IPF  where last_update_date>='{start_date_query}';\"\n",
    "df = pd.read_sql(query, cnxn)\n",
    "print(df.info())\n",
    "df.tail()"
   ]
  },
  {
   "cell_type": "code",
   "execution_count": null,
   "id": "dae34c0f-983a-416d-83d3-0beea0cdbdf5",
   "metadata": {},
   "outputs": [],
   "source": [
    "connection_url = URL.create(\n",
    "    drivername=\"mssql+pyodbc\",\n",
    "    username=_username,\n",
    "    password=_password,\n",
    "    host=_hostname,\n",
    "    port=_port,\n",
    "    database=_servicename,\n",
    "    query={\"driver\": \"SQL Server\"}\n",
    ")\n",
    "\n",
    "engine = sqlalchemy.create_engine(connection_url)\n",
    "\n",
    "df2= pd.read_sql(query, engine)\n",
    "df2.tail()"
   ]
  },
  {
   "cell_type": "code",
   "execution_count": null,
   "id": "f74268c9-8900-44ea-b95e-5059343aff92",
   "metadata": {},
   "outputs": [],
   "source": []
  }
 ],
 "metadata": {
  "kernelspec": {
   "display_name": "Python 3 (ipykernel)",
   "language": "python",
   "name": "python3"
  },
  "language_info": {
   "codemirror_mode": {
    "name": "ipython",
    "version": 3
   },
   "file_extension": ".py",
   "mimetype": "text/x-python",
   "name": "python",
   "nbconvert_exporter": "python",
   "pygments_lexer": "ipython3",
   "version": "3.10.12"
  }
 },
 "nbformat": 4,
 "nbformat_minor": 5
}
